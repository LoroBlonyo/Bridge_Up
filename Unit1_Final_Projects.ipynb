{
 "cells": [
  {
   "cell_type": "markdown",
   "metadata": {
    "deletable": true,
    "editable": true
   },
   "source": [
    "# Analyzing your experimental data\n",
    "\n",
    "Use this Jupyter Notebook to analyze the data from your experiment"
   ]
  },
  {
   "cell_type": "markdown",
   "metadata": {
    "deletable": true,
    "editable": true
   },
   "source": [
    "Put your data into one or more list as relevant for your experiment (one sample, one list; two samples, two lists):"
   ]
  },
  {
   "cell_type": "code",
   "execution_count": 2,
   "metadata": {
    "collapsed": true,
    "deletable": true,
    "editable": true
   },
   "outputs": [],
   "source": [
    "#First, we created out data sets, 1 for the room, and one for the world\n",
    "\n",
    "color = [.50, .75, .75, 1.0, 1.0]\n",
    "world = .55"
   ]
  },
  {
   "cell_type": "markdown",
   "metadata": {
    "deletable": true,
    "editable": true
   },
   "source": [
    "Consider how you can loops and/or conditionals to analyze your data. Use the cell below to do so if you think this would be helpful:"
   ]
  },
  {
   "cell_type": "code",
   "execution_count": null,
   "metadata": {
    "collapsed": true,
    "deletable": true,
    "editable": true
   },
   "outputs": [],
   "source": []
  },
  {
   "cell_type": "markdown",
   "metadata": {
    "deletable": true,
    "editable": true
   },
   "source": [
    "Now find the mean of your dataset(s). Hint: You will need to import numpy."
   ]
  },
  {
   "cell_type": "code",
   "execution_count": 3,
   "metadata": {
    "collapsed": false,
    "deletable": true,
    "editable": true
   },
   "outputs": [
    {
     "name": "stdout",
     "output_type": "stream",
     "text": [
      "0.8\n"
     ]
    }
   ],
   "source": [
    "#We imported numpy, found the mean using numpy, then set the 2 different means equal to variables\n",
    "\n",
    "import numpy as np\n",
    "print(np.mean(color))\n",
    "color_mean = (np.mean(color))\n",
    "pop_mean = .55"
   ]
  },
  {
   "cell_type": "markdown",
   "metadata": {
    "deletable": true,
    "editable": true
   },
   "source": [
    "Next, find the standard deviation and variance using the np.std() and np.var() functions."
   ]
  },
  {
   "cell_type": "code",
   "execution_count": 4,
   "metadata": {
    "collapsed": false,
    "deletable": true,
    "editable": true
   },
   "outputs": [
    {
     "name": "stdout",
     "output_type": "stream",
     "text": [
      "0.187082869339\n",
      "0.035\n",
      "0.187082869339\n",
      "0.035\n"
     ]
    }
   ],
   "source": [
    "#Now we used numpy to find the standard deviation and variance for both our data sets\n",
    "\n",
    "print(np.std(color))\n",
    "color_std = np.std(color)\n",
    "\n",
    "print(np.var(color))\n",
    "color_var = np.var(color)\n",
    "\n",
    "print(color_std)\n",
    "print(color_var)"
   ]
  },
  {
   "cell_type": "markdown",
   "metadata": {
    "deletable": true,
    "editable": true
   },
   "source": [
    "Now, find your t-value. Use the relevant code below:"
   ]
  },
  {
   "cell_type": "code",
   "execution_count": 5,
   "metadata": {
    "collapsed": false,
    "deletable": true,
    "editable": true
   },
   "outputs": [
    {
     "name": "stdout",
     "output_type": "stream",
     "text": [
      "Ttest_1sampResult(statistic=2.6726124191242442, pvalue=0.055654477559742489)\n"
     ]
    }
   ],
   "source": [
    "#We used scipy to find the t value and p value\n",
    "\n",
    "from scipy import stats\n",
    "print(stats.ttest_1samp(color, pop_mean))"
   ]
  },
  {
   "cell_type": "code",
   "execution_count": 6,
   "metadata": {
    "collapsed": false,
    "deletable": true,
    "editable": true
   },
   "outputs": [],
   "source": [
    "# We created the variables that we needed to create the pie charts\n",
    "\n",
    "eyes = [8, 2]\n",
    "world_eyes = [5.5, 4.5]\n",
    "labels = 'Brown', 'Other'\n",
    "fracs = [80, 20]\n",
    "fracs_world = [55, 45]"
   ]
  },
  {
   "cell_type": "markdown",
   "metadata": {
    "deletable": true,
    "editable": true
   },
   "source": [
    "Next, it's time to make a graph that visualizes your results. You can create a histogram for your datasets using matplotlib:"
   ]
  },
  {
   "cell_type": "code",
   "execution_count": 12,
   "metadata": {
    "collapsed": false,
    "deletable": true,
    "editable": true
   },
   "outputs": [],
   "source": [
    "# Import matplotlib\n",
    "import matplotlib.pyplot as plt\n",
    "\n",
    "# Create a pie chart\n",
    "#plt.pie(labels=labels, fracs)\n",
    "plt.pie(fracs, labels=labels, autopct='%.0f%%')\n",
    "#, autopct='%.0f%%'\n",
    "\n",
    "# Add a title and axis labels\n",
    "plt.suptitle(\"Room Percent of Brown Eyes\")\n",
    "\n",
    "# Show the graph\n",
    "plt.savefig(\"Room_Percent_of_Brown_Eyes.png\")"
   ]
  },
  {
   "cell_type": "code",
   "execution_count": 13,
   "metadata": {
    "collapsed": false,
    "deletable": true,
    "editable": true
   },
   "outputs": [],
   "source": [
    "import matplotlib.pyplot as plt\n",
    "\n",
    "# Create a histogram\n",
    "plt.pie(world_eyes)\n",
    "plt.pie(fracs_world, labels=labels, autopct='%.0f%%')\n",
    "#, autopct='%.0f%%'\n",
    "\n",
    "\n",
    "# Add a title and axis labels\n",
    "plt.suptitle(\"World Percecnt of Brown Eyes\")\n",
    "\n",
    "# Show the graph\n",
    "plt.savefig(\"World_Percent_of Brown_Eyes.png\")"
   ]
  },
  {
   "cell_type": "markdown",
   "metadata": {
    "deletable": true,
    "editable": true
   },
   "source": [
    "If you want to make another kind of graph, ask for help!"
   ]
  },
  {
   "cell_type": "code",
   "execution_count": null,
   "metadata": {
    "collapsed": true,
    "deletable": true,
    "editable": true
   },
   "outputs": [],
   "source": []
  }
 ],
 "metadata": {
  "kernelspec": {
   "display_name": "Python 3",
   "language": "python",
   "name": "python3"
  },
  "language_info": {
   "codemirror_mode": {
    "name": "ipython",
    "version": 3
   },
   "file_extension": ".py",
   "mimetype": "text/x-python",
   "name": "python",
   "nbconvert_exporter": "python",
   "pygments_lexer": "ipython3",
   "version": "3.5.2"
  }
 },
 "nbformat": 4,
 "nbformat_minor": 2
}
