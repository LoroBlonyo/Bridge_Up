{
 "cells": [
  {
   "cell_type": "markdown",
   "metadata": {
    "deletable": true,
    "editable": true
   },
   "source": [
    "# Final Projects: Calculating evolutionary distance\n",
    "\n",
    "In this notebook you will compare the amino acid sequence of hemoglobin alpha from 3 different species to find out which two are most closely related."
   ]
  },
  {
   "cell_type": "code",
   "execution_count": 61,
   "metadata": {
    "collapsed": true,
    "deletable": true,
    "editable": true
   },
   "outputs": [],
   "source": [
    "# First we opened our files of DNA and set them to variables\n",
    "turtle = open(\"2_BoxTurtle_CSNK2B_DNA.txt\").read()\n",
    "chicken = open(\"2_Chicken_CSNK2B_DNA.txt\").read()\n",
    "lizard = open(\"2_GreenAnole_CSNK2B_DNA.txt\").read()\n",
    "\n",
    "# We imported the library that we need for later.\n",
    "import matplotlib.pyplot as plt "
   ]
  },
  {
   "cell_type": "markdown",
   "metadata": {
    "deletable": true,
    "editable": true
   },
   "source": [
    "You'll need to copy and paste the function from last class that finds the number of differences in two sequences:"
   ]
  },
  {
   "cell_type": "code",
   "execution_count": 62,
   "metadata": {
    "collapsed": true,
    "deletable": true,
    "editable": true
   },
   "outputs": [],
   "source": [
    "# This is the function that we previously created to compare two files,\n",
    "# and count the number of differences. \n",
    "def differences_2_files (file1, file2):\n",
    "    same = []\n",
    "    different = []\n",
    "    for i in range (0, len(file1)):\n",
    "        if file1[i] == file2[i]:\n",
    "            same.append(file1)\n",
    "        else:\n",
    "            different.append([i])\n",
    "    return len(different)"
   ]
  },
  {
   "cell_type": "markdown",
   "metadata": {
    "deletable": true,
    "editable": true
   },
   "source": [
    "In order to compare the different amino acid sequences, we need to open the files and read the sequences into new variables:"
   ]
  },
  {
   "cell_type": "code",
   "execution_count": 63,
   "metadata": {
    "collapsed": true,
    "deletable": true,
    "editable": true
   },
   "outputs": [],
   "source": [
    "def dna_to_amino_acids(dna_sequence):\n",
    "    DNA_dict = {\"A\":\"U\", \"T\":\"A\", \"G\":\"C\", \"C\":\"G\"}\n",
    "    rna = \"\"\n",
    "    for item in dna_sequence:\n",
    "        rna += DNA_dict[item]\n",
    "    \n",
    "    amino_acids_list = {\"UUU\":\"F\", \"UUC\":\"F\", \"UUA\":\"L\", \"UUG\":\"L\", \"CUU\":\"L\", \"CUC\":\"L\", \"CUA\":\"L\", \"CUG\":\"L\", \"AUU\":\"I\", \"AUC\":\"I\", \"AUA\":\"I\", \"AUG\":\"M\", \"GUU\":\"V\", \"GUC\":\"V\", \"GUA\":\"V\", \"GUG\":\"V\", \"UCU\":\"S\", \"UCC\":\"S\", \"UCA\":\"S\", \"UCG\":\"S\", \"CCU\":\"P\", \"CCC\":\"P\", \"CCA\":\"P\", \"CCG\":\"P\", \"ACU\":\"T\", \"ACC\":\"T\", \"ACA\":\"T\", \"ACG\":\"T\", \"GCU\":\"A\", \"GCC\":\"A\", \"GCA\":\"A\", \"GCG\":\"A\", \"UAU\":\"Y\", \"UAC\":\"Y\", \"UAA\":\"STOP\", \"UAG\":\"STOP\", \"CAU\":\"H\", \"CAC\":\"H\", \"CAA\":\"Q\", \"CAG\":\"Q\", \"AAU\": \"N\", \"AAC\":\"N\", \"AAA\":\"K\", \"AAG\":\"K\", \"GAU\":\"D\", \"GAC\":\"D\", \"GAA\":\"E\", \"GAG\":\"E\", \"UGU\":\"C\", \"UGC\":\"C\", \"UGA\":\"STOP\", \"UGG\":\"W\", \"CGU\":\"R\", \"CGC\":\"R\", \"CGA\":\"R\", \"CGG\":\"R\", \"AGU\":\"S\", \"AGC\":\"S\", \"AGA\":\"R\", \"AGG\":\"R\", \"GGU\":\"G\", \"GGC\":\"G\", \"GGA\":\"G\", \"GGG\":\"G\"} \n",
    "    codon = \"\"\n",
    "    all_acids = \"\"\n",
    "    for item in rna:\n",
    "        codon += item\n",
    "        if len(codon) == 3:\n",
    "            all_acids += amino_acids_list[codon] \n",
    "            codon = \"\"\n",
    "    return all_acids"
   ]
  },
  {
   "cell_type": "code",
   "execution_count": 64,
   "metadata": {
    "collapsed": false
   },
   "outputs": [
    {
     "name": "stdout",
     "output_type": "stream",
     "text": [
      "\n"
     ]
    }
   ],
   "source": [
    "print()"
   ]
  },
  {
   "cell_type": "markdown",
   "metadata": {
    "deletable": true,
    "editable": true
   },
   "source": [
    "Decide as a group whether you want to compare DNA or protein sequences for your species. What are the pros and cons of each?"
   ]
  },
  {
   "cell_type": "code",
   "execution_count": 65,
   "metadata": {
    "collapsed": false,
    "deletable": true,
    "editable": true
   },
   "outputs": [],
   "source": [
    "turtle_acid = \"MSSSEEVSWISWFCGLRGNEFFCEVDEDYIQDKFNLTGLNEQVPHYRQALDMILDLEPDEELEDNPNQSDLIEQAAEMLYGLIHARYILTNRGIAQMLEKYQQGDFGYCPRVYCENQPMLPIGLSDIPGEAMVKLYCPKCMDVYTPKSSRHHHTDGAYFGTGFPHMLFMVHPEYRPKRPANQFVPRLYGFKIHPMAYQLQLQAASNFKSPVKTIR\"\n",
    "chicken_acid = \"MSSSEEVSWISWFCGLRGNEFFCEVDEDYIQDKFNLTGLNEQVPHYRQALDMILDLEPDEELEDNPNQSDLIEQAAEMLYGLIHARYILTNRGIAQMLEKYQQGDFGYCPRVYCENQPMLPIGLSDIPGEAMVKLYCPKCMDVYTPKSSRHHHTDGAYFGTGFPHMLFMVHPEYRPKRPANQFVPRLYGFKIHPMAYQLQLQAASNFKSPVKTIR\"\n",
    "lizard_acid = \"MSSSEEVSWISWFCGLRGNEFFCEVDEDYIQDKFNLTGLNEQVPHYRQALDMILDLEPDEELEDNPNQSDLIEQAAEMLYGLIHARYILTNRGIAQMLEKYQQGDFGYCPRVYCENQPMLPIGLSDIPGEAMVKLYCPKCMDVYTPKSSRHHHTDGAYFGTGFPHMLFMVHPEYRPKRPANQFVPRLYGFKIHPMAYQLQLQAASNFKSPVKTIR\""
   ]
  },
  {
   "cell_type": "code",
   "execution_count": 66,
   "metadata": {
    "collapsed": false
   },
   "outputs": [
    {
     "name": "stdout",
     "output_type": "stream",
     "text": [
      "turtle\n",
      "MSSSEEVSWISWFCGLRGNEFFCEVDEDYIQDKFNLTGLNEQVPHYRQALDMILDLEPDEELEDNPNQSDLIEQAAEMLYGLIHARYILTNRGIAQMLEKYQQGDFGYCPRVYCENQPMLPIGLSDIPGEAMVKLYCPKCMDVYTPKSSRHHHTDGAYFGTGFPHMLFMVHPEYRPKRPANQFVPRLYGFKIHPMAYQLQLQAASNFKSPVKTIR\n",
      "chicken\n",
      "MSSSEEVSWISWFCGLRGNEFFCEVDEDYIQDKFNLTGLNEQVPHYRQALDMILDLEPDEELEDNPNQSDLIEQAAEMLYGLIHARYILTNRGIAQMLEKYQQGDFGYCPRVYCENQPMLPIGLSDIPGEAMVKLYCPKCMDVYTPKSSRHHHTDGAYFGTGFPHMLFMVHPEYRPKRPANQFVPRLYGFKIHPMAYQLQLQAASNFKSPVKTIR\n",
      "lizard\n",
      "MSSSEEVSWISWFCGLRGNEFFCEVDEDYIQDKFNLTGLNEQVPHYRQALDMILDLEPDEELEDNPNQSDLIEQAAEMLYGLIHARYILTNRGIAQMLEKYQQGDFGYCPRVYCENQPMLPIGLSDIPGEAMVKLYCPKCMDVYTPKSSRHHHTDGAYFGTGFPHMLFMVHPEYRPKRPANQFVPRLYGFKIHPMAYQLQLQAASNFKSPVKTIR\n"
     ]
    }
   ],
   "source": [
    "print(\"turtle\")\n",
    "print(turtle_acid)\n",
    "print(\"chicken\")\n",
    "print(chicken_acid)\n",
    "print(\"lizard\")\n",
    "print(lizard_acid)"
   ]
  },
  {
   "cell_type": "markdown",
   "metadata": {
    "deletable": true,
    "editable": true
   },
   "source": [
    "Now call the number of differences function 3 times to compare all three of your species' sequences."
   ]
  },
  {
   "cell_type": "code",
   "execution_count": 67,
   "metadata": {
    "collapsed": false,
    "deletable": true,
    "editable": true
   },
   "outputs": [],
   "source": [
    "# We called our function here to compare our 3 animals DNA\n",
    "turt_chick_dif = (differences_2_files(turtle, chicken))\n",
    "turt_liz_dif = (differences_2_files(turtle, lizard))\n",
    "chick_liz_dif = (differences_2_files(chicken, lizard))"
   ]
  },
  {
   "cell_type": "markdown",
   "metadata": {
    "deletable": true,
    "editable": true
   },
   "source": [
    "What can you conclude based on the number of differences between each pair of species?\n",
    "\n",
    "Next, create a function that returns the percent difference between sequences and call it for your three comparisons:"
   ]
  },
  {
   "cell_type": "code",
   "execution_count": 68,
   "metadata": {
    "collapsed": false,
    "deletable": true,
    "editable": true
   },
   "outputs": [],
   "source": [
    "# We created a function to find the percent differences between \n",
    "# the DNA sequnces of our animals\n",
    "def differences_percent (file1, file2):\n",
    "    same = []\n",
    "    different = []\n",
    "    every = []\n",
    "    for i in range (0, len(file1)):\n",
    "        if file1[i] == file2[i]:\n",
    "            same.append(file1[i])\n",
    "            every.append(i)\n",
    "        else:\n",
    "            different.append([i])\n",
    "            every.append([i])\n",
    "    part = (len(different))\n",
    "    whole = (len(every))\n",
    "    \n",
    "    percent = (100 * float(part)/float(whole))\n",
    "\n",
    "    return float(percent)"
   ]
  },
  {
   "cell_type": "code",
   "execution_count": 69,
   "metadata": {
    "collapsed": false,
    "deletable": true,
    "editable": true
   },
   "outputs": [],
   "source": [
    "# We called our function here for our 3 animals\n",
    "turt_chick_dif = (differences_percent(turtle, chicken))\n",
    "turt_liz_dif = (differences_percent(turtle, lizard))\n",
    "chick_liz_dif = (differences_percent(chicken, lizard))"
   ]
  },
  {
   "cell_type": "code",
   "execution_count": 70,
   "metadata": {
    "collapsed": false
   },
   "outputs": [],
   "source": [
    "turt_chick_acids = (differences_percent(turtle_acid, chicken_acid))\n",
    "turt_liz_acids = (differences_percent(turtle_acid, lizard_acid))\n",
    "chick_liz_acids = (differences_percent(chicken_acid, lizard_acid))"
   ]
  },
  {
   "cell_type": "code",
   "execution_count": 71,
   "metadata": {
    "collapsed": false
   },
   "outputs": [
    {
     "name": "stdout",
     "output_type": "stream",
     "text": [
      "0.0\n",
      "0.0\n",
      "0.0\n"
     ]
    }
   ],
   "source": [
    "print(turt_chick_acids)\n",
    "print(turt_liz_acids)\n",
    "print(chick_liz_acids)"
   ]
  },
  {
   "cell_type": "markdown",
   "metadata": {
    "deletable": true,
    "editable": true
   },
   "source": [
    "Let's visualize these results! Choose a graph type that you think will communicate your conclusions effectively and create it using matplotlib:"
   ]
  },
  {
   "cell_type": "code",
   "execution_count": 72,
   "metadata": {
    "collapsed": false,
    "deletable": true,
    "editable": true
   },
   "outputs": [
    {
     "data": {
      "image/png": "[encoded data removed]",
      "text/plain": [
       "<matplotlib.figure.Figure at 0x11ca3b6a0>"
      ]
     },
     "metadata": {},
     "output_type": "display_data"
    }
   ],
   "source": [
    "# We created our bar chart here.\n",
    "# This funtion clears the graph so that we dont get any double graphs.\n",
    "plt.clf() \n",
    "# We plotted each bar seperatly.\n",
    "plt.bar(1, turt_chick_dif)\n",
    "plt.bar(2, turt_liz_dif)\n",
    "plt.bar(3, chick_liz_dif)\n",
    "# We named the bars here.\n",
    "plt.xticks([1, 2, 3],(\"Turtle and Chicken\",\"Turtle and Lizard\", \"Chicken and Lizard\"))\n",
    "# And we labeled our graph here.\n",
    "plt.title(\"Percent Differences Between the Turtle, Lizard, and Chicken\")\n",
    "plt.ylabel(\"Differences in Percent\")\n",
    "plt.savefig(\"Differences_Between_Turtle_and_a_Chicken.png\")\n",
    "plt.show()"
   ]
  },
  {
   "cell_type": "code",
   "execution_count": 73,
   "metadata": {
    "collapsed": false,
    "deletable": true,
    "editable": true
   },
   "outputs": [
    {
     "data": {
      "image/png": "[encoded data removed]",
      "text/plain": [
       "<matplotlib.figure.Figure at 0x11c505278>"
      ]
     },
     "metadata": {},
     "output_type": "display_data"
    }
   ],
   "source": [
    "# This is the code for our pie chart.\n",
    "# Here we set the percentages, or fractions, for each slice.\n",
    "fracs = [turt_chick_dif, 100-turt_chick_dif]\n",
    "labels = \"Differences\", \"Similarities\"\n",
    "explode = [0.1, 0.1]\n",
    "# This is where we actually plot the pie chart.\n",
    "plt.pie(fracs, labels=labels, autopct='%.0f%%', explode = explode, shadow = True)\n",
    "# We set the title for our chart.\n",
    "plt.suptitle(\"Differences and Similarities Between a Box Turtle and a Chicken\")\n",
    "# We saved our figure here\n",
    "plt.savefig(\"Differences_and_Similarities_Between_a Box_Turtle_and_a_Chicken.png\")\n",
    "plt.show()"
   ]
  },
  {
   "cell_type": "code",
   "execution_count": 74,
   "metadata": {
    "collapsed": false,
    "deletable": true,
    "editable": true
   },
   "outputs": [
    {
     "data": {
      "image/png": "[encoded data removed]",
      "text/plain": [
       "<matplotlib.figure.Figure at 0x11bfeb470>"
      ]
     },
     "metadata": {},
     "output_type": "display_data"
    }
   ],
   "source": [
    "fracs = [turt_liz_dif, 100-turt_liz_dif]\n",
    "explode = [0.1, 0.1]\n",
    "labels = \"Differences\", \"Similarities\"\n",
    "\n",
    "plt.pie(fracs, labels=labels, autopct='%.0f%%', explode = explode, shadow = True)\n",
    "\n",
    "\n",
    "plt.suptitle(\"Differences and Similarities Between a Box Turtle and an Anole Lizard\")\n",
    "\n",
    "plt.savefig(\"Differences_and_Similarities_Between_a Box_Turtle_and_a_Green_Anole_Lizard.png\")\n",
    "plt.show()"
   ]
  },
  {
   "cell_type": "code",
   "execution_count": 75,
   "metadata": {
    "collapsed": false,
    "deletable": true,
    "editable": true
   },
   "outputs": [
    {
     "data": {
      "image/png": "[encoded data removed]",
      "text/plain": [
       "<matplotlib.figure.Figure at 0x11bfb9240>"
      ]
     },
     "metadata": {},
     "output_type": "display_data"
    }
   ],
   "source": [
    "fracs = [chick_liz_dif, 100-chick_liz_dif]\n",
    "explode = [0.1, 0.1]\n",
    "labels = \"Differences\", \"Similarities\"\n",
    "\n",
    "\n",
    "plt.pie(fracs, labels=labels, autopct='%.0f%%', explode = explode, shadow = True)\n",
    "\n",
    "\n",
    "plt.suptitle(\"Differences and Similarities Between a Chicken and an Anole Lizard\")\n",
    "\n",
    "plt.savefig(\"Differences_and_Similarities_Between_a_Chicken_and_a_Green_Anole_Lizard.png\")\n",
    "plt.show()"
   ]
  },
  {
   "cell_type": "markdown",
   "metadata": {
    "deletable": true,
    "editable": true
   },
   "source": [
    "## Coding Challenge\n",
    "If you finish your project and want to try a challenge, come up with a hypothesis about which of the following species are most closely related to humans (carp, chicken, chimp, dog, eel, elephant, frog, gorilla, macaque monkey, mouse, orangutan, pig). Write out a ranked list with the species you think is most related to humans at the top.\n",
    "\n",
    "Then calculate the percent difference between the hemoglobin amino acid sequences of humans and each species to find out how close you came to the right ranking!"
   ]
  },
  {
   "cell_type": "code",
   "execution_count": 76,
   "metadata": {
    "collapsed": false,
    "deletable": true,
    "editable": true
   },
   "outputs": [
    {
     "data": {
      "image/png": "[encoded data removed]",
      "text/plain": [
       "<matplotlib.figure.Figure at 0x11c543b70>"
      ]
     },
     "metadata": {},
     "output_type": "display_data"
    }
   ],
   "source": [
    "# We created our bar chart here.\n",
    "# This funtion clears the graph so that we dont get any double graphs.\n",
    "plt.clf() \n",
    "# We plotted each bar seperatly.\n",
    "plt.bar(1, turt_chick_acids)\n",
    "plt.bar(2, turt_liz_acids)\n",
    "plt.bar(3, chick_liz_acids)\n",
    "# We named the bars here.\n",
    "plt.xticks([1, 2, 3],(\"Turtle and Chicken\",\"Turtle and Lizard\", \"Chicken and Lizard\"))\n",
    "# And we labeled our graph here.\n",
    "plt.title(\"Percent Differences Between the Turtle, Lizard, and Chicken\")\n",
    "plt.ylabel(\"Differences in Percent\")\n",
    "plt.savefig(\"Differences_Between_Turtle_and_a_Chicken.png\")\n",
    "plt.show()"
   ]
  },
  {
   "cell_type": "code",
   "execution_count": null,
   "metadata": {
    "collapsed": true,
    "deletable": true,
    "editable": true
   },
   "outputs": [],
   "source": []
  }
 ],
 "metadata": {
  "kernelspec": {
   "display_name": "Python 3",
   "language": "python",
   "name": "python3"
  },
  "language_info": {
   "codemirror_mode": {
    "name": "ipython",
    "version": 3
   },
   "file_extension": ".py",
   "mimetype": "text/x-python",
   "name": "python",
   "nbconvert_exporter": "python",
   "pygments_lexer": "ipython3",
   "version": "3.5.2"
  }
 },
 "nbformat": 4,
 "nbformat_minor": 2
}
