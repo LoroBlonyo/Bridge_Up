{
 "cells": [
  {
   "cell_type": "code",
   "execution_count": 5,
   "metadata": {},
   "outputs": [],
   "source": [
    "import pandas as pd\n",
    "import random\n",
    "import time\n",
    "import sys"
   ]
  },
  {
   "cell_type": "code",
   "execution_count": 6,
   "metadata": {},
   "outputs": [],
   "source": [
    "# Here, we are creating empty lists to add to later.\n",
    "name_list = []           # This is the list for our subject's names.\n",
    "unchunked_list = []      # This is the list for the unchunked sequnce of numbers.\n",
    "unchunked_correct = []   # This is the list for the amount of numbers remembered \n",
    "chunked_list = []        # This is the list for the chunked sequnce of numbers.\n",
    "chunked_correct = []     # This is the list for the amount of numbers remembered "
   ]
  },
  {
   "cell_type": "code",
   "execution_count": 7,
   "metadata": {},
   "outputs": [],
   "source": [
    "# We created this function to generate random numbers, either in chunks or in a sequence.\n",
    "def random_nums(amount_nums, chunk_size):\n",
    "    num_string = \"\"\n",
    "    chunked = []\n",
    "    for i in range(0, amount_nums):\n",
    "        num_string += str(random.randrange(10))\n",
    "    if chunk_size <= 1:\n",
    "        return num_string\n",
    "    elif chunk_size >= 2:\n",
    "        for x in range(0, amount_nums, chunk_size):\n",
    "            chunked.append(num_string[x:x+chunk_size])\n",
    "    return chunked\n",
    "\n",
    "\n",
    "# This checks the amount of similarities between the actual random number\n",
    "# and the the number people remember \n",
    "def differences_2(file1):\n",
    "    file1 = \"\".join(file1)\n",
    "    c = 0\n",
    "    file2 = input(\"Please enter the numbers you remember with no spaces.\")\n",
    "    for i in range (0, len(file2)):\n",
    "        if file1[i] == file2[i]:\n",
    "            c += 1\n",
    "    return c\n",
    "\n",
    "\n",
    "# This calls the above function that compares the 2 sequnces of numbers for unchunked\n",
    "def function1(var1):\n",
    "    unchunked_amount_correct = (differences_2(var1))\n",
    "    print(unchunked_amount_correct)\n",
    "    unchunked_correct.append(unchunked_amount_correct)\n",
    "\n",
    "\n",
    "# This calls the above function that compares the 2 sequnces of numbers for chunked\n",
    "def function2(var2):\n",
    "    chunked_amount_correct = (differences_2(var2))\n",
    "    print(chunked_amount_correct)\n",
    "    chunked_correct.append(chunked_amount_correct)\n",
    "    \n",
    "    \n",
    "# This helps to erase the previous line\n",
    "def restart_line():\n",
    "    sys.stdout.write('\\r')\n",
    "    sys.stdout.flush()\n",
    "\n",
    "\n",
    "\n",
    "# This funcion automates the entire process that we previously went over.\n",
    "def all_in_one(amount_nums, chunk_size):\n",
    " \n",
    "    name = input(\"What is your name?\")                  # This asks our subject's name.\n",
    "    name_list.append(name)                              # And appends it to a list.\n",
    "    \n",
    "    unchunked_num = (random_nums(amount_nums, 0))       # This prints out a random sequnce of numbers.\n",
    "    unchunked_list.append(unchunked_num)                # And appends it to a different list.\n",
    "    sys.stdout.write(unchunked_num)\n",
    "    \n",
    "    sys.stdout.flush()                                  # This whole block is overwriting the previous line of code.\n",
    "    time.sleep(15)                                      # This stops the whole function for 15 seconds.\n",
    "    restart_line()\n",
    "    sys.stdout.write(\"                                   \\n\")\n",
    "    sys.stdout.flush()\n",
    "    function1(unchunked_num)                            # We are calling the function that compares 2 seqences and  \n",
    "                                                        # prints out the characters that are the same.\n",
    "    chunked_num = (random_nums(amount_nums, chunk_size))# This line prints out the random chunks of numbers.\n",
    "    chunked_list.append(chunked_num)                    # This appendts the randoms chunks to a list\n",
    "    sys.stdout.write(\" \".join(chunked_num))\n",
    "    \n",
    "    sys.stdout.flush()                                  # This block overwrites the the previous line of code.\n",
    "    time.sleep(15)                                      # This stops the function again for 15 seconds.\n",
    "    restart_line()\n",
    "    sys.stdout.write(\"                                                    \\n\")\n",
    "    sys.stdout.flush()\n",
    "    function2(chunked_num)"
   ]
  },
  {
   "cell_type": "code",
   "execution_count": 8,
   "metadata": {},
   "outputs": [
    {
     "name": "stdout",
     "output_type": "stream",
     "text": [
      "What is your name?Angelica\n",
      "                                   \n",
      "Please enter the numbers you remember with no spaces.32055950281658471536469488201501339\n",
      "35\n",
      "                                                    \n",
      "Please enter the numbers you remember with no spaces.57615978541153040720758539456931575\n",
      "35\n"
     ]
    }
   ],
   "source": [
    "all_in_one(35, 2)\n"
   ]
  },
  {
   "cell_type": "code",
   "execution_count": null,
   "metadata": {
    "collapsed": true
   },
   "outputs": [],
   "source": []
  },
  {
   "cell_type": "code",
   "execution_count": null,
   "metadata": {
    "collapsed": true
   },
   "outputs": [],
   "source": []
  },
  {
   "cell_type": "code",
   "execution_count": 2,
   "metadata": {},
   "outputs": [
    {
     "ename": "NameError",
     "evalue": "name 'pd' is not defined",
     "output_type": "error",
     "traceback": [
      "\u001b[0;31m---------------------------------------------------------------------------\u001b[0m",
      "\u001b[0;31mNameError\u001b[0m                                 Traceback (most recent call last)",
      "\u001b[0;32m<ipython-input-2-20823bfbe89a>\u001b[0m in \u001b[0;36m<module>\u001b[0;34m()\u001b[0m\n\u001b[0;32m----> 1\u001b[0;31m df = pd.DataFrame({\"Names\": name_list, \"Unchunked Numbers\": unchunked_list, \"Unchunked Number of Correct\": unchunked_correct, \n\u001b[0m\u001b[1;32m      2\u001b[0m                    \"Chunked Numbers\": chunked_list, \"Chunked Number of Correct\": chunked_correct})\n",
      "\u001b[0;31mNameError\u001b[0m: name 'pd' is not defined"
     ]
    }
   ],
   "source": [
    "df = pd.DataFrame({\"Names\": name_list, \"Unchunked Numbers\": unchunked_list, \"Unchunked Number of Correct\": unchunked_correct, \n",
    "                   \"Chunked Numbers\": chunked_list, \"Chunked Number of Correct\": chunked_correct})\n"
   ]
  },
  {
   "cell_type": "code",
   "execution_count": 3,
   "metadata": {},
   "outputs": [
    {
     "ename": "NameError",
     "evalue": "name 'df' is not defined",
     "output_type": "error",
     "traceback": [
      "\u001b[0;31m---------------------------------------------------------------------------\u001b[0m",
      "\u001b[0;31mNameError\u001b[0m                                 Traceback (most recent call last)",
      "\u001b[0;32m<ipython-input-3-f3fd69756de8>\u001b[0m in \u001b[0;36m<module>\u001b[0;34m()\u001b[0m\n\u001b[0;32m----> 1\u001b[0;31m \u001b[0mdf\u001b[0m \u001b[0;34m=\u001b[0m \u001b[0mdf\u001b[0m\u001b[0;34m[\u001b[0m\u001b[0;34m[\u001b[0m\u001b[0;34m'Names'\u001b[0m\u001b[0;34m,\u001b[0m \u001b[0;34m'Unchunked Numbers'\u001b[0m\u001b[0;34m,\u001b[0m \u001b[0;34m'Unchunked Number of Correct'\u001b[0m\u001b[0;34m,\u001b[0m \u001b[0;34m'Chunked Numbers'\u001b[0m\u001b[0;34m,\u001b[0m \u001b[0;34m'Chunked Number of Correct'\u001b[0m\u001b[0;34m]\u001b[0m\u001b[0;34m]\u001b[0m\u001b[0;34m\u001b[0m\u001b[0m\n\u001b[0m",
      "\u001b[0;31mNameError\u001b[0m: name 'df' is not defined"
     ]
    }
   ],
   "source": [
    "df = df[['Names', 'Unchunked Numbers', 'Unchunked Number of Correct', 'Chunked Numbers', 'Chunked Number of Correct']]"
   ]
  },
  {
   "cell_type": "code",
   "execution_count": 4,
   "metadata": {},
   "outputs": [
    {
     "ename": "NameError",
     "evalue": "name 'df' is not defined",
     "output_type": "error",
     "traceback": [
      "\u001b[0;31m---------------------------------------------------------------------------\u001b[0m",
      "\u001b[0;31mNameError\u001b[0m                                 Traceback (most recent call last)",
      "\u001b[0;32m<ipython-input-4-02e969f5b0fc>\u001b[0m in \u001b[0;36m<module>\u001b[0;34m()\u001b[0m\n\u001b[0;32m----> 1\u001b[0;31m \u001b[0mdf\u001b[0m\u001b[0;34m.\u001b[0m\u001b[0mhead\u001b[0m\u001b[0;34m(\u001b[0m\u001b[0;36m26\u001b[0m\u001b[0;34m)\u001b[0m\u001b[0;34m\u001b[0m\u001b[0m\n\u001b[0m",
      "\u001b[0;31mNameError\u001b[0m: name 'df' is not defined"
     ]
    }
   ],
   "source": [
    "df.head(26)"
   ]
  },
  {
   "cell_type": "code",
   "execution_count": null,
   "metadata": {
    "collapsed": true
   },
   "outputs": [],
   "source": []
  },
  {
   "cell_type": "code",
   "execution_count": null,
   "metadata": {
    "collapsed": true
   },
   "outputs": [],
   "source": []
  }
 ],
 "metadata": {
  "kernelspec": {
   "display_name": "Python 3",
   "language": "python",
   "name": "python3"
  },
  "language_info": {
   "codemirror_mode": {
    "name": "ipython",
    "version": 3
   },
   "file_extension": ".py",
   "mimetype": "text/x-python",
   "name": "python",
   "nbconvert_exporter": "python",
   "pygments_lexer": "ipython3",
   "version": "3.6.4"
  }
 },
 "nbformat": 4,
 "nbformat_minor": 2
}
