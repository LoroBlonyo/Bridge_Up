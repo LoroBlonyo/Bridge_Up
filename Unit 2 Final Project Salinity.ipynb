{
 "cells": [
  {
   "cell_type": "code",
   "execution_count": 12,
   "metadata": {
    "collapsed": true,
    "deletable": true,
    "editable": true
   },
   "outputs": [],
   "source": [
    "#First we imported the libraries that we needed\n",
    "import matplotlib.pyplot as plt\n",
    "import numpy as np\n",
    "import csv #This library lets us work with csv files without using pandas"
   ]
  },
  {
   "cell_type": "code",
   "execution_count": 13,
   "metadata": {
    "collapsed": true,
    "deletable": true,
    "editable": true
   },
   "outputs": [],
   "source": [
    "#This is the file for our color map for 2011\n",
    "csvFile = open(\"PracticalSalinityUnits_Dec_2011.csv\", 'r') \n",
    "csvReader = csv.reader(csvFile, delimiter=',')\n",
    "data_lists = list(csvReader)\n",
    "\n",
    "#This is where we specified the height and width, set each spot on the grid, \n",
    "#and specified the type of data we are putting in the matrix. \n",
    "\n",
    "grid = np.empty([height, width, 3], dtype=np.uint8) "
   ]
  },
  {
   "cell_type": "code",
   "execution_count": 46,
   "metadata": {
    "collapsed": false,
    "deletable": true,
    "editable": true
   },
   "outputs": [],
   "source": [
    "all_values = [] # We will fill in this empty list with all the data values as we go\n",
    "\n",
    "for r, row in enumerate(data_lists):\n",
    "    for c, value in enumerate(row):\n",
    "        if float(value) < 99999:\n",
    "            all_values.append(float(value)) # This is where we fill in the list with all data values\n",
    "        if float(value) <= 30: #Blue, less than or equal to 30 \n",
    "            grid[r, c] = [2, 59, 247]\n",
    "        elif float(value) <= 31: #Teal, less than or equal to 31\n",
    "            grid[r, c] = [1, 242, 247]\n",
    "        elif float(value) <= 32: #Purple, less than or equal to 32\n",
    "            grid[r, c] = [121, 16, 150]\n",
    "        elif float(value) <= 33: #Dark green, less than or equal to 33\n",
    "            grid[r, c] = [1, 58, 16]\n",
    "        elif float(value) <= 34: #Light green, less than or equal to 34\n",
    "            grid[r, c] = [49, 224, 96]\n",
    "        elif float(value) <= 35: #Yellow, less than or equal to 35\n",
    "            grid[r, c] = [238, 242, 4]\n",
    "        elif float(value) <= 36: #Orange, less than or equal to 36\n",
    "            grid[r, c] = [239, 138, 7]\n",
    "        elif float(value) <= 37: #Light red, less than or equal to 37\n",
    "            grid[r, c] = [244, 73, 73]\n",
    "        elif float(value) <= 38: #Dark red, less than or equal to 38\n",
    "            grid[r, c] = [244, 73, 73]\n",
    "        else:\n",
    "            grid[r, c] = [0, 0, 0]"
   ]
  },
  {
   "cell_type": "code",
   "execution_count": 30,
   "metadata": {
    "collapsed": false,
    "deletable": true,
    "editable": true
   },
   "outputs": [
    {
     "name": "stdout",
     "output_type": "stream",
     "text": [
      "30.0\n",
      "38.0\n"
     ]
    }
   ],
   "source": [
    "print(min(all_values))\n",
    "print(max(all_values))"
   ]
  },
  {
   "cell_type": "code",
   "execution_count": 44,
   "metadata": {
    "collapsed": false,
    "deletable": true,
    "editable": true
   },
   "outputs": [
    {
     "data": {
      "image/png": "[encoded data removed]",
      "text/plain": [
       "<matplotlib.figure.Figure at 0x11fd5e0f0>"
      ]
     },
     "metadata": {},
     "output_type": "display_data"
    }
   ],
   "source": [
    "plt.title(\"December 2011 Salinity Levels\")\n",
    "plt.imshow(grid)\n",
    "plt.axis('off')\n",
    "plt.savefig(\"December 2011 Salinity Levels\",dpi = 1000)\n",
    "plt.show()"
   ]
  },
  {
   "cell_type": "code",
   "execution_count": 35,
   "metadata": {
    "collapsed": true,
    "deletable": true,
    "editable": true
   },
   "outputs": [],
   "source": [
    "#practical salinity units"
   ]
  },
  {
   "cell_type": "code",
   "execution_count": null,
   "metadata": {
    "collapsed": true,
    "deletable": true,
    "editable": true
   },
   "outputs": [],
   "source": []
  },
  {
   "cell_type": "code",
   "execution_count": 36,
   "metadata": {
    "collapsed": true,
    "deletable": true,
    "editable": true
   },
   "outputs": [],
   "source": [
    "#This is the file for the color map for 2011\n",
    "csvFile = open(\"PracticalSalinityUnits_Jan_2015.csv\", 'r') \n",
    "csvReader = csv.reader(csvFile, delimiter=',')\n",
    "data_lists2 = list(csvReader)"
   ]
  },
  {
   "cell_type": "code",
   "execution_count": 38,
   "metadata": {
    "collapsed": true,
    "deletable": true,
    "editable": true
   },
   "outputs": [],
   "source": [
    "width = (len(data_lists2[0]))\n",
    "height = (len(data_lists2))"
   ]
  },
  {
   "cell_type": "code",
   "execution_count": 39,
   "metadata": {
    "collapsed": true,
    "deletable": true,
    "editable": true
   },
   "outputs": [],
   "source": [
    "grid = np.empty([height, width, 3], dtype=np.uint8) "
   ]
  },
  {
   "cell_type": "code",
   "execution_count": 40,
   "metadata": {
    "collapsed": true,
    "deletable": true,
    "editable": true
   },
   "outputs": [],
   "source": [
    "all_values2 = [] # We will fill in this empty list with all the data values as we go\n",
    "\n",
    "for r, row in enumerate(data_lists2):\n",
    "    for c, value in enumerate(row):\n",
    "        if float(value) < 99999:\n",
    "            all_values2.append(float(value)) # This is where we fill in the list with all data values\n",
    "        if float(value) <= 30: #Blue, less than or equal to 0 \n",
    "            grid[r, c] = [2, 59, 247]\n",
    "        elif float(value) <= 31: #Teal, less than or equal to 2\n",
    "            grid[r, c] = [1, 242, 247]\n",
    "        elif float(value) <= 32: #Purple, less than or equal to 5\n",
    "            grid[r, c] = [121, 16, 150]\n",
    "        elif float(value) <= 33: #Dark green, less than or equal to 10\n",
    "            grid[r, c] = [1, 58, 16]\n",
    "        elif float(value) <= 34: #Light green, less than or equal to 15\n",
    "            grid[r, c] = [49, 224, 96]\n",
    "        elif float(value) <= 35: #Yellow, less than or equal to 20\n",
    "            grid[r, c] = [238, 242, 4]\n",
    "        elif float(value) <= 36: #Orange, less than or equal to 25\n",
    "            grid[r, c] = [239, 138, 7]\n",
    "        elif float(value) <= 37: #Light red, less than or equal to 30\n",
    "            grid[r, c] = [244, 73, 73]\n",
    "        elif float(value) <= 38: #Dark red, less than or equal to 35\n",
    "            grid[r, c] = [244, 73, 73]\n",
    "        else:\n",
    "            grid[r, c] = [0, 0, 0]"
   ]
  },
  {
   "cell_type": "code",
   "execution_count": 45,
   "metadata": {
    "collapsed": false,
    "deletable": true,
    "editable": true
   },
   "outputs": [
    {
     "data": {
      "image/png": "[encoded data removed]",
      "text/plain": [
       "<matplotlib.figure.Figure at 0x120050240>"
      ]
     },
     "metadata": {},
     "output_type": "display_data"
    }
   ],
   "source": [
    "plt.title(\"January 2015 Salinity Levels\")\n",
    "plt.imshow(grid)\n",
    "plt.axis('off')\n",
    "plt.savefig(\"December 2015 Salinity Levels\",dpi = 1000)\n",
    "\n",
    "plt.show()"
   ]
  },
  {
   "cell_type": "code",
   "execution_count": null,
   "metadata": {
    "collapsed": true,
    "deletable": true,
    "editable": true
   },
   "outputs": [],
   "source": []
  }
 ],
 "metadata": {
  "kernelspec": {
   "display_name": "Python 3",
   "language": "python",
   "name": "python3"
  },
  "language_info": {
   "codemirror_mode": {
    "name": "ipython",
    "version": 3
   },
   "file_extension": ".py",
   "mimetype": "text/x-python",
   "name": "python",
   "nbconvert_exporter": "python",
   "pygments_lexer": "ipython3",
   "version": "3.5.2"
  }
 },
 "nbformat": 4,
 "nbformat_minor": 2
}
